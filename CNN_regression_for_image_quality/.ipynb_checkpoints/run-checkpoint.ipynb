{
 "cells": [
  {
   "cell_type": "code",
   "execution_count": 1,
   "metadata": {},
   "outputs": [],
   "source": [
    "import os\n",
    "import json\n",
    "from torch.utils.data import Dataset, DataLoader\n",
    "from torchvision import transforms\n",
    "from PIL import Image\n",
    "import torch\n",
    "from torchvision import models\n",
    "import torch.nn as nn\n",
    "from tqdm import tqdm"
   ]
  },
  {
   "cell_type": "code",
   "execution_count": 33,
   "metadata": {},
   "outputs": [
    {
     "name": "stderr",
     "output_type": "stream",
     "text": [
      "C:\\Users\\admin\\AppData\\Local\\Temp\\ipykernel_15924\\1612150285.py:11: FutureWarning: You are using `torch.load` with `weights_only=False` (the current default value), which uses the default pickle module implicitly. It is possible to construct malicious pickle data which will execute arbitrary code during unpickling (See https://github.com/pytorch/pytorch/blob/main/SECURITY.md#untrusted-models for more details). In a future release, the default value for `weights_only` will be flipped to `True`. This limits the functions that could be executed during unpickling. Arbitrary objects will no longer be allowed to be loaded via this mode unless they are explicitly allowlisted by the user via `torch.serialization.add_safe_globals`. We recommend you start setting `weights_only=True` for any use case where you don't have full control of the loaded file. Please open an issue on GitHub for any issues related to this experimental feature.\n",
      "  model.load_state_dict(torch.load('model.pt', map_location=device))\n"
     ]
    }
   ],
   "source": [
    "device = torch.device('cuda' if torch.cuda.is_available() else 'cpu')\n",
    "\n",
    "model = models.resnet50(pretrained=True)\n",
    "for param in model.parameters():\n",
    "    param.requires_grad = False\n",
    "model.fc = nn.Sequential(\n",
    "    nn.Linear(in_features=2048, out_features=1024, bias=True),\n",
    "    nn.Linear(in_features=1024, out_features=1, bias=True)\n",
    ")\n",
    "\n",
    "model.load_state_dict(torch.load('model.pt', map_location=device))\n",
    "model.eval();"
   ]
  },
  {
   "cell_type": "code",
   "execution_count": 34,
   "metadata": {},
   "outputs": [],
   "source": [
    "class CustomDataset(Dataset):\n",
    "    def __init__(self, data_dir=\"test_imgs\", transform=None, expected_size=(224, 224)):\n",
    "        self.transform = transform\n",
    "        self.image_paths = []\n",
    "        # self.labels = []\n",
    "        # for dir in os.listdir(data_dir):\n",
    "        for i in os.listdir(os.path.join(data_dir)):\n",
    "                if '.png' in i or '.jpg' in i:\n",
    "                    self.image_paths.append(os.path.join(data_dir, i))\n",
    "                # self.labels.append(i.split('_')[0])\n",
    "                # print(\"Label:\", self.labels[-1])\n",
    "\n",
    "    def __len__(self):\n",
    "        return len(self.image_paths)\n",
    "\n",
    "    def __getitem__(self, idx):\n",
    "        img_path = self.image_paths[idx]\n",
    "        # print(img_path)\n",
    "        image = Image.open(img_path).convert('RGB')\n",
    "\n",
    "        if self.transform:\n",
    "            image = self.transform(image)\n",
    "        # label = self.labels[idx]\n",
    "        # label = label.replace('.', ',')\n",
    "        # label = [float(label)]\n",
    "        # label = torch.Tensor(label)\n",
    "        return [image, img_path]"
   ]
  },
  {
   "cell_type": "code",
   "execution_count": 35,
   "metadata": {},
   "outputs": [],
   "source": [
    "# Подготовка данных\n",
    "transform = transforms.Compose([\n",
    "    # transforms.Resize((224, 224)),\n",
    "    transforms.ToTensor(),\n",
    "    transforms.Normalize(mean=[0.485, 0.456, 0.406], std=[0.229, 0.224, 0.225])\n",
    "])\n",
    "\n",
    "# Создание датасета и загрузчика данных\n",
    "# dataset = CustomDataset(transform=transform)\n",
    "\n",
    "# dataloader = DataLoader(dataset, batch_size=1, shuffle=False, pin_memory=True)"
   ]
  },
  {
   "cell_type": "code",
   "execution_count": 36,
   "metadata": {},
   "outputs": [
    {
     "name": "stdout",
     "output_type": "stream",
     "text": [
      "test_imgs\\1\\Spot Noises.png: 14.976502418518066\n",
      "test_imgs\\1\\Original.jpg: 14.3784761428833\n",
      "test_imgs\\1\\Line Noise.png: 9.078730583190918\n",
      "test_imgs\\1\\Uniform Noise.png: 6.4447197914123535\n",
      "------------------------------ \n",
      "\n",
      "test_imgs\\pic1\\4_strong.png: 20.1912784576416\n",
      "test_imgs\\pic1\\4.jpg: 19.47581672668457\n",
      "test_imgs\\pic1\\4_medium.png: 19.451278686523438\n",
      "test_imgs\\pic1\\4_weak.png: 19.02581787109375\n",
      "test_imgs\\pic1\\4_blur.png: 15.921334266662598\n",
      "------------------------------ \n",
      "\n",
      "test_imgs\\pic2\\5_medium.png: 35.927947998046875\n",
      "test_imgs\\pic2\\5_strong.png: 35.8112907409668\n",
      "test_imgs\\pic2\\5_weak.png: 20.383390426635742\n",
      "test_imgs\\pic2\\5.jpg: 19.918439865112305\n",
      "test_imgs\\pic2\\5_blur.png: 15.311822891235352\n",
      "------------------------------ \n",
      "\n",
      "test_imgs\\pic3\\6_strong.png: 43.797760009765625\n",
      "test_imgs\\pic3\\6_medium.png: 23.132596969604492\n",
      "test_imgs\\pic3\\6.jpg: 19.46421241760254\n",
      "test_imgs\\pic3\\6_weak.png: 18.492311477661133\n",
      "------------------------------ \n",
      "\n",
      "test_imgs\\pic4\\7_strong.png: 28.57347297668457\n",
      "test_imgs\\pic4\\7_medium.png: 21.301050186157227\n",
      "test_imgs\\pic4\\7.jpg: 19.990150451660156\n",
      "test_imgs\\pic4\\7_weak.png: 16.30034065246582\n",
      "------------------------------ \n",
      "\n"
     ]
    }
   ],
   "source": [
    "test_imgs_folder = \"test_imgs\"\n",
    "\n",
    "for subfolder in os.listdir(test_imgs_folder):\n",
    "    dataset = CustomDataset(data_dir=os.path.join(test_imgs_folder, subfolder), transform=transform)\n",
    "    dataloader = DataLoader(dataset, batch_size=1, shuffle=False, pin_memory=True)\n",
    "\n",
    "    model.to(device)\n",
    "    results = dict()\n",
    "    for img in dataloader:\n",
    "        inputs = img[0].to(device)\n",
    "        outputs = model(inputs)\n",
    "        results.update({img[1][0]: outputs[0][0].item()})\n",
    "        # print(img[1][0])\n",
    "        # print(outputs[0][0].item())\n",
    "\n",
    "    results = sorted(results.items(), key=lambda item: item[1], reverse=True)\n",
    "    for key, value in results:\n",
    "        print(f\"{key}: {value}\")\n",
    "\n",
    "    print(\"-\"*30, '\\n')\n"
   ]
  },
  {
   "cell_type": "code",
   "execution_count": null,
   "metadata": {},
   "outputs": [],
   "source": []
  },
  {
   "cell_type": "code",
   "execution_count": null,
   "metadata": {},
   "outputs": [],
   "source": []
  },
  {
   "cell_type": "code",
   "execution_count": null,
   "metadata": {},
   "outputs": [],
   "source": []
  },
  {
   "cell_type": "code",
   "execution_count": null,
   "metadata": {},
   "outputs": [],
   "source": []
  },
  {
   "cell_type": "code",
   "execution_count": null,
   "metadata": {},
   "outputs": [],
   "source": []
  },
  {
   "cell_type": "code",
   "execution_count": null,
   "metadata": {},
   "outputs": [],
   "source": []
  },
  {
   "cell_type": "code",
   "execution_count": 12,
   "metadata": {},
   "outputs": [
    {
     "ename": "NameError",
     "evalue": "name 'dataloader' is not defined",
     "output_type": "error",
     "traceback": [
      "\u001b[1;31m---------------------------------------------------------------------------\u001b[0m",
      "\u001b[1;31mNameError\u001b[0m                                 Traceback (most recent call last)",
      "Cell \u001b[1;32mIn[12], line 2\u001b[0m\n\u001b[0;32m      1\u001b[0m model\u001b[38;5;241m.\u001b[39mto(device)\n\u001b[1;32m----> 2\u001b[0m \u001b[38;5;28;01mfor\u001b[39;00m img \u001b[38;5;129;01min\u001b[39;00m \u001b[43mdataloader\u001b[49m:\n\u001b[0;32m      3\u001b[0m     inputs \u001b[38;5;241m=\u001b[39m img\u001b[38;5;241m.\u001b[39mto(device)\n\u001b[0;32m      4\u001b[0m     outputs \u001b[38;5;241m=\u001b[39m model(inputs)\n",
      "\u001b[1;31mNameError\u001b[0m: name 'dataloader' is not defined"
     ]
    }
   ],
   "source": [
    "model.to(device)\n",
    "for img in dataloader:\n",
    "    inputs = img.to(device)\n",
    "    outputs = model(inputs)\n",
    "    print(outputs[0][0].item())\n",
    "    print()"
   ]
  },
  {
   "cell_type": "code",
   "execution_count": null,
   "metadata": {},
   "outputs": [],
   "source": []
  }
 ],
 "metadata": {
  "kernelspec": {
   "display_name": "Python 3",
   "language": "python",
   "name": "python3"
  },
  "language_info": {
   "codemirror_mode": {
    "name": "ipython",
    "version": 3
   },
   "file_extension": ".py",
   "mimetype": "text/x-python",
   "name": "python",
   "nbconvert_exporter": "python",
   "pygments_lexer": "ipython3",
   "version": "3.11.9"
  }
 },
 "nbformat": 4,
 "nbformat_minor": 2
}
