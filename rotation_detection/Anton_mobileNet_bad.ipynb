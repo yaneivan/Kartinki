{
 "cells": [
  {
   "cell_type": "code",
   "execution_count": 18,
   "id": "c8c82d51",
   "metadata": {},
   "outputs": [],
   "source": [
    "from datasets import load_dataset\n",
    "from tqdm import tqdm\n",
    "import torch\n",
    "import cv2\n",
    "import numpy as np\n",
    "   \n",
    "import torch.nn as nn\n",
    "\n",
    "device = torch.device('cuda' if torch.cuda.is_available() else 'cpu')\n"
   ]
  },
  {
   "cell_type": "markdown",
   "id": "a620d046",
   "metadata": {},
   "source": [
    "# Сначала прочитаем все картинки, и создадим новую папку data, в которой разложим наши классы поворотов по папкам"
   ]
  },
  {
   "cell_type": "code",
   "execution_count": 19,
   "id": "ba25a30d",
   "metadata": {},
   "outputs": [],
   "source": [
    "import os\n",
    "import shutil\n",
    "\n",
    "def is_file_image(img_formats, file):\n",
    "    result = False\n",
    "    for format_ in img_formats:\n",
    "        if format_ in file:\n",
    "            result = True\n",
    "    return result"
   ]
  },
  {
   "cell_type": "code",
   "execution_count": 20,
   "id": "e758c09b",
   "metadata": {},
   "outputs": [],
   "source": [
    "# удалить папку data, чтобы загрузить туда новые значения\n",
    "shutil.rmtree('data')\n",
    "#os.remove('data')"
   ]
  },
  {
   "cell_type": "markdown",
   "id": "d591f7bd",
   "metadata": {},
   "source": [
    "#### наши классы будут называться 0, 90, 180, 270, other \n",
    "вращения будем считать по часовой стрелке"
   ]
  },
  {
   "cell_type": "code",
   "execution_count": 21,
   "id": "7376c605",
   "metadata": {},
   "outputs": [
    {
     "name": "stdout",
     "output_type": "stream",
     "text": [
      "1-preprocessed.jpg True\n",
      "1016.jpg True\n",
      "1017.jpg True\n",
      "11-preprocessed.jpg True\n",
      "13-preprocessed.jpg True\n",
      "1330.jpg True\n",
      "17-preprocessed.jpg True\n",
      "17544.png True\n",
      "17550.png True\n",
      "18-preprocessed.jpg True\n",
      "2-preprocessed.jpg True\n",
      "2239.jpg True\n",
      "3-preprocessed.jpg True\n",
      "4-preprocessed.jpg True\n",
      "930.jpg True\n",
      "931.jpg True\n",
      "932.jpg True\n",
      "955.jpg True\n",
      "960.jpg True\n",
      "961.jpg True\n",
      "963.jpg True\n",
      "964.jpg True\n",
      "bad-r-0002.jpg True\n",
      "bad-r-0003.jpg True\n",
      "desktop.ini False\n",
      "photo_2024-02-28_09-02-11.jpg True\n",
      "smol.jpg True\n",
      "t-1.jpg True\n"
     ]
    }
   ],
   "source": [
    "#data_folder = \"Документы//Из_интернета//SROIE\" # receipts\n",
    "#data_folder = \"Документы/Из_интернета/FUNSD/\" # documents\n",
    "data_folder = \"Документы//Logstream\"\n",
    "\n",
    "tmp_data = 'data'\n",
    "classes = ['0', '90', '180', '270', 'other']\n",
    "\n",
    "if not(os.path.isdir(tmp_data)):\n",
    "    os.mkdir(tmp_data)\n",
    "    for class_ in classes:\n",
    "        if class_ == 'other': # у нас нет примеров для класса \"другое\"\n",
    "            continue \n",
    "        os.mkdir( os.path.join(tmp_data, class_) )\n",
    "\n",
    "        \n",
    "img_formats = ['.jpg', '.png']#['.jpg', '.png']\n",
    "\n",
    "#copy all images from folder to our subfolder, class '0'\n",
    "for root, dirs, files in os.walk(data_folder):\n",
    "    for file in files:\n",
    "        print(file, is_file_image(img_formats, file))\n",
    "        if not( is_file_image(img_formats, file) ):\n",
    "            continue\n",
    "        shutil.copyfile(os.path.join(root, file), os.path.join(tmp_data, classes[0], file))"
   ]
  },
  {
   "cell_type": "code",
   "execution_count": 22,
   "id": "aac9caf0",
   "metadata": {},
   "outputs": [
    {
     "name": "stderr",
     "output_type": "stream",
     "text": [
      "100%|██████████████████████████████████████████████████████████████████████████████████| 27/27 [00:09<00:00,  2.80it/s]"
     ]
    },
    {
     "name": "stdout",
     "output_type": "stream",
     "text": [
      "Total Imgs: 108\n"
     ]
    },
    {
     "name": "stderr",
     "output_type": "stream",
     "text": [
      "\n"
     ]
    }
   ],
   "source": [
    "from PIL import Image\n",
    "\n",
    "total_imgs = 0\n",
    "for file in tqdm(os.listdir( os.path.join(tmp_data, classes[0]) )):\n",
    "    if file[-4:] == '.jpg':\n",
    "        img = cv2.imread( os.path.join(tmp_data, classes[0], file) ) # открываем ровный оригинал\n",
    "    elif file[-4:] == '.png':\n",
    "        img = Image.open( os.path.join(tmp_data, classes[0], file) )\n",
    "        img = img.convert('RGB')\n",
    "        img = np.array(img)\n",
    "        #continue\n",
    "        #img = cv2.imread( os.path.join(tmp_data, classes[0], file) , -1)\n",
    "\n",
    "    # вращаем один раз и сохраняем (90)\n",
    "    img = cv2.rotate(img, cv2.ROTATE_90_CLOCKWISE)\n",
    "    cv2.imwrite( os.path.join(tmp_data, classes[1], file), img )\n",
    "    \n",
    "    # вращаем второй раз и сохраняем (180)\n",
    "    img = cv2.rotate(img, cv2.ROTATE_90_CLOCKWISE)\n",
    "    cv2.imwrite( os.path.join(tmp_data, classes[2], file), img )\n",
    "    \n",
    "    # вращаем третий раз и сохраняем (270)\n",
    "    img = cv2.rotate(img, cv2.ROTATE_90_CLOCKWISE)\n",
    "    cv2.imwrite( os.path.join(tmp_data, classes[3], file), img )\n",
    "    \n",
    "    total_imgs += 4\n",
    "print(\"Total Imgs:\", total_imgs)"
   ]
  },
  {
   "cell_type": "code",
   "execution_count": 23,
   "id": "056bdfa5",
   "metadata": {},
   "outputs": [],
   "source": [
    "from torchvision.models.mobilenetv3 import mobilenet_v3_small\n",
    "import torch\n",
    "import torch.nn as nn"
   ]
  },
  {
   "cell_type": "code",
   "execution_count": 24,
   "id": "681369f8",
   "metadata": {},
   "outputs": [],
   "source": [
    "model = mobilenet_v3_small()\n",
    "model.classifier = nn.Sequential(nn.Linear(in_features=576, out_features=1024), \n",
    "                                 nn.Hardswish(),\n",
    "                                 nn.Dropout(p=0.2, inplace=True),\n",
    "                                 nn.Linear(in_features=1024, out_features=4, bias=True))"
   ]
  },
  {
   "cell_type": "code",
   "execution_count": 25,
   "id": "045f5b32",
   "metadata": {},
   "outputs": [
    {
     "data": {
      "text/plain": [
       "<All keys matched successfully>"
      ]
     },
     "execution_count": 25,
     "metadata": {},
     "output_type": "execute_result"
    }
   ],
   "source": [
    "model.load_state_dict(torch.load('models//mobile_net//documents.pt', map_location='cpu'))"
   ]
  },
  {
   "cell_type": "code",
   "execution_count": null,
   "id": "4a67d152",
   "metadata": {},
   "outputs": [],
   "source": []
  },
  {
   "cell_type": "code",
   "execution_count": 26,
   "id": "96276814",
   "metadata": {},
   "outputs": [],
   "source": [
    "num_epochs = 30\n",
    "batch_size = 16\n",
    "learining_rate = 0.001\n",
    "model = model.to(device)\n",
    "\n",
    "criterion = nn.CrossEntropyLoss().to(device)\n",
    "optimizer = torch.optim.SGD(model.parameters(), lr=learining_rate, weight_decay = 0.001, momentum = 0.9)"
   ]
  },
  {
   "cell_type": "code",
   "execution_count": 27,
   "id": "8e958723",
   "metadata": {},
   "outputs": [
    {
     "name": "stdout",
     "output_type": "stream",
     "text": [
      "108\n",
      "86 22\n"
     ]
    }
   ],
   "source": [
    "from torchvision import datasets, transforms\n",
    "\n",
    "\n",
    "transform = transforms.Compose([transforms.ToTensor(), \n",
    "                                transforms.Lambda(lambda x: x.to(device)),\n",
    "                                transforms.Resize((128,128))])\n",
    "\n",
    "\n",
    "dataset = datasets.ImageFolder(tmp_data, transform = transform)\n",
    "\n",
    "print(len(dataset))\n",
    "total_imgs = len(dataset)\n",
    "\n",
    "train_percent = 0.8\n",
    "len_train, len_test = round(total_imgs * train_percent), total_imgs - round(total_imgs*train_percent)\n",
    "print(len_train, len_test)\n",
    "train, test = torch.utils.data.random_split(dataset, [len_train, len_test])\n",
    "\n",
    "train_loader = torch.utils.data.DataLoader(train, batch_size=batch_size, shuffle=True)\n",
    "test_loader = torch.utils.data.DataLoader(test, batch_size=batch_size, shuffle=True)"
   ]
  },
  {
   "cell_type": "markdown",
   "id": "1804218f",
   "metadata": {},
   "source": [
    "### в следующей ячейке loss и accuracy НЕ СЧИТАЮТСЯ!\n",
    "### оно показывает только последний из всего, не среднее!!!"
   ]
  },
  {
   "cell_type": "code",
   "execution_count": 31,
   "id": "87393b73",
   "metadata": {
    "scrolled": true
   },
   "outputs": [
    {
     "name": "stderr",
     "output_type": "stream",
     "text": [
      "  0%|                                                                                            | 0/6 [00:00<?, ?it/s]C:\\Users\\admin\\AppData\\Local\\Temp\\ipykernel_6084\\3609555986.py:12: UserWarning: To copy construct from a tensor, it is recommended to use sourceTensor.clone().detach() or sourceTensor.clone().detach().requires_grad_(True), rather than torch.tensor(sourceTensor).\n",
      "  labels = torch.tensor(labels).to(device)\n",
      "100%|████████████████████████████████████████████████████████████████████████████████████| 6/6 [00:09<00:00,  1.55s/it]\n"
     ]
    },
    {
     "name": "stdout",
     "output_type": "stream",
     "text": [
      "Epoch: 0 Loss: 0.22494918604691824 Acc: 0.9375\n"
     ]
    },
    {
     "name": "stderr",
     "output_type": "stream",
     "text": [
      "C:\\Users\\admin\\AppData\\Local\\Temp\\ipykernel_6084\\3609555986.py:40: UserWarning: To copy construct from a tensor, it is recommended to use sourceTensor.clone().detach() or sourceTensor.clone().detach().requires_grad_(True), rather than torch.tensor(sourceTensor).\n",
      "  labels = torch.tensor(labels).to(device)\n"
     ]
    },
    {
     "name": "stdout",
     "output_type": "stream",
     "text": [
      "Test acc: 0.8541666666666667\n"
     ]
    },
    {
     "name": "stderr",
     "output_type": "stream",
     "text": [
      "100%|████████████████████████████████████████████████████████████████████████████████████| 6/6 [00:09<00:00,  1.57s/it]\n"
     ]
    },
    {
     "name": "stdout",
     "output_type": "stream",
     "text": [
      "Epoch: 1 Loss: 0.40305115655064583 Acc: 0.8541666666666666\n",
      "Test acc: 0.90625\n"
     ]
    },
    {
     "name": "stderr",
     "output_type": "stream",
     "text": [
      "100%|████████████████████████████████████████████████████████████████████████████████████| 6/6 [00:09<00:00,  1.51s/it]\n"
     ]
    },
    {
     "name": "stdout",
     "output_type": "stream",
     "text": [
      "Epoch: 2 Loss: 0.22706629087527594 Acc: 0.9201388888888888\n",
      "Test acc: 0.8020833333333333\n"
     ]
    },
    {
     "name": "stderr",
     "output_type": "stream",
     "text": [
      "100%|████████████████████████████████████████████████████████████████████████████████████| 6/6 [00:09<00:00,  1.55s/it]\n"
     ]
    },
    {
     "name": "stdout",
     "output_type": "stream",
     "text": [
      "Epoch: 3 Loss: 0.26211560269196826 Acc: 0.9131944444444445\n",
      "Test acc: 0.7083333333333333\n"
     ]
    },
    {
     "name": "stderr",
     "output_type": "stream",
     "text": [
      "100%|████████████████████████████████████████████████████████████████████████████████████| 6/6 [00:09<00:00,  1.56s/it]\n"
     ]
    },
    {
     "name": "stdout",
     "output_type": "stream",
     "text": [
      "Epoch: 4 Loss: 0.19280307864149412 Acc: 0.9479166666666666\n",
      "Test acc: 0.7083333333333333\n"
     ]
    },
    {
     "name": "stderr",
     "output_type": "stream",
     "text": [
      "100%|████████████████████████████████████████████████████████████████████████████████████| 6/6 [00:09<00:00,  1.52s/it]\n"
     ]
    },
    {
     "name": "stdout",
     "output_type": "stream",
     "text": [
      "Epoch: 5 Loss: 0.45665232588847476 Acc: 0.8576388888888888\n",
      "Test acc: 0.7604166666666667\n"
     ]
    },
    {
     "name": "stderr",
     "output_type": "stream",
     "text": [
      "100%|████████████████████████████████████████████████████████████████████████████████████| 6/6 [00:09<00:00,  1.51s/it]\n"
     ]
    },
    {
     "name": "stdout",
     "output_type": "stream",
     "text": [
      "Epoch: 6 Loss: 0.1756658467153708 Acc: 0.9479166666666666\n",
      "Test acc: 0.875\n"
     ]
    },
    {
     "name": "stderr",
     "output_type": "stream",
     "text": [
      "100%|████████████████████████████████████████████████████████████████████████████████████| 6/6 [00:09<00:00,  1.54s/it]\n"
     ]
    },
    {
     "name": "stdout",
     "output_type": "stream",
     "text": [
      "Epoch: 7 Loss: 0.2359605940679709 Acc: 0.9340277777777778\n",
      "Test acc: 0.6875\n"
     ]
    },
    {
     "name": "stderr",
     "output_type": "stream",
     "text": [
      "100%|████████████████████████████████████████████████████████████████████████████████████| 6/6 [00:09<00:00,  1.53s/it]\n"
     ]
    },
    {
     "name": "stdout",
     "output_type": "stream",
     "text": [
      "Epoch: 8 Loss: 0.19567122807105383 Acc: 0.9409722222222222\n",
      "Test acc: 0.7395833333333333\n"
     ]
    },
    {
     "name": "stderr",
     "output_type": "stream",
     "text": [
      "100%|████████████████████████████████████████████████████████████████████████████████████| 6/6 [00:09<00:00,  1.54s/it]\n"
     ]
    },
    {
     "name": "stdout",
     "output_type": "stream",
     "text": [
      "Epoch: 9 Loss: 0.26048313081264496 Acc: 0.9305555555555555\n",
      "Test acc: 0.8229166666666667\n"
     ]
    },
    {
     "name": "stderr",
     "output_type": "stream",
     "text": [
      "100%|████████████████████████████████████████████████████████████████████████████████████| 6/6 [00:09<00:00,  1.53s/it]\n"
     ]
    },
    {
     "name": "stdout",
     "output_type": "stream",
     "text": [
      "Epoch: 10 Loss: 0.19162294641137123 Acc: 0.9305555555555555\n",
      "Test acc: 0.8229166666666667\n"
     ]
    },
    {
     "name": "stderr",
     "output_type": "stream",
     "text": [
      "100%|████████████████████████████████████████████████████████████████████████████████████| 6/6 [00:09<00:00,  1.53s/it]\n"
     ]
    },
    {
     "name": "stdout",
     "output_type": "stream",
     "text": [
      "Epoch: 11 Loss: 0.2698110391696294 Acc: 0.8993055555555555\n",
      "Test acc: 0.8229166666666667\n"
     ]
    },
    {
     "name": "stderr",
     "output_type": "stream",
     "text": [
      "100%|████████████████████████████████████████████████████████████████████████████████████| 6/6 [00:09<00:00,  1.55s/it]\n"
     ]
    },
    {
     "name": "stdout",
     "output_type": "stream",
     "text": [
      "Epoch: 12 Loss: 0.2641032164295514 Acc: 0.8819444444444445\n",
      "Test acc: 0.7604166666666667\n"
     ]
    },
    {
     "name": "stderr",
     "output_type": "stream",
     "text": [
      "100%|████████████████████████████████████████████████████████████████████████████████████| 6/6 [00:09<00:00,  1.53s/it]\n"
     ]
    },
    {
     "name": "stdout",
     "output_type": "stream",
     "text": [
      "Epoch: 13 Loss: 0.17522651329636574 Acc: 0.9583333333333334\n",
      "Test acc: 0.8229166666666667\n"
     ]
    },
    {
     "name": "stderr",
     "output_type": "stream",
     "text": [
      "100%|████████████████████████████████████████████████████████████████████████████████████| 6/6 [00:09<00:00,  1.55s/it]\n"
     ]
    },
    {
     "name": "stdout",
     "output_type": "stream",
     "text": [
      "Epoch: 14 Loss: 0.34106138224403065 Acc: 0.9305555555555555\n",
      "Test acc: 0.8541666666666667\n"
     ]
    },
    {
     "name": "stderr",
     "output_type": "stream",
     "text": [
      "100%|████████████████████████████████████████████████████████████████████████████████████| 6/6 [00:09<00:00,  1.53s/it]\n"
     ]
    },
    {
     "name": "stdout",
     "output_type": "stream",
     "text": [
      "Epoch: 15 Loss: 0.226046039412419 Acc: 0.9131944444444445\n",
      "Test acc: 0.7395833333333333\n"
     ]
    },
    {
     "name": "stderr",
     "output_type": "stream",
     "text": [
      "100%|████████████████████████████████████████████████████████████████████████████████████| 6/6 [00:09<00:00,  1.53s/it]\n"
     ]
    },
    {
     "name": "stdout",
     "output_type": "stream",
     "text": [
      "Epoch: 16 Loss: 0.19375425080458322 Acc: 0.96875\n",
      "Test acc: 0.7083333333333333\n"
     ]
    },
    {
     "name": "stderr",
     "output_type": "stream",
     "text": [
      "100%|████████████████████████████████████████████████████████████████████████████████████| 6/6 [00:09<00:00,  1.57s/it]\n"
     ]
    },
    {
     "name": "stdout",
     "output_type": "stream",
     "text": [
      "Epoch: 17 Loss: 0.15779132395982742 Acc: 0.9583333333333334\n",
      "Test acc: 0.7604166666666667\n"
     ]
    },
    {
     "name": "stderr",
     "output_type": "stream",
     "text": [
      "100%|████████████████████████████████████████████████████████████████████████████████████| 6/6 [00:09<00:00,  1.56s/it]\n"
     ]
    },
    {
     "name": "stdout",
     "output_type": "stream",
     "text": [
      "Epoch: 18 Loss: 0.19008599345882735 Acc: 0.9513888888888888\n",
      "Test acc: 0.7395833333333333\n"
     ]
    },
    {
     "name": "stderr",
     "output_type": "stream",
     "text": [
      "100%|████████████████████████████████████████████████████████████████████████████████████| 6/6 [00:09<00:00,  1.56s/it]\n"
     ]
    },
    {
     "name": "stdout",
     "output_type": "stream",
     "text": [
      "Epoch: 19 Loss: 0.2635267445196708 Acc: 0.8854166666666666\n",
      "Test acc: 0.65625\n"
     ]
    },
    {
     "name": "stderr",
     "output_type": "stream",
     "text": [
      "100%|████████████████████████████████████████████████████████████████████████████████████| 6/6 [00:08<00:00,  1.48s/it]\n"
     ]
    },
    {
     "name": "stdout",
     "output_type": "stream",
     "text": [
      "Epoch: 20 Loss: 0.1507531019548575 Acc: 0.9895833333333334\n",
      "Test acc: 0.8229166666666667\n"
     ]
    },
    {
     "name": "stderr",
     "output_type": "stream",
     "text": [
      "100%|████████████████████████████████████████████████████████████████████████████████████| 6/6 [00:09<00:00,  1.54s/it]\n"
     ]
    },
    {
     "name": "stdout",
     "output_type": "stream",
     "text": [
      "Epoch: 21 Loss: 0.21214844783147177 Acc: 0.9409722222222222\n",
      "Test acc: 0.7916666666666667\n"
     ]
    },
    {
     "name": "stderr",
     "output_type": "stream",
     "text": [
      "100%|████████████████████████████████████████████████████████████████████████████████████| 6/6 [00:09<00:00,  1.54s/it]\n"
     ]
    },
    {
     "name": "stdout",
     "output_type": "stream",
     "text": [
      "Epoch: 22 Loss: 0.1615422156949838 Acc: 0.9791666666666666\n",
      "Test acc: 0.8541666666666667\n"
     ]
    },
    {
     "name": "stderr",
     "output_type": "stream",
     "text": [
      "100%|████████████████████████████████████████████████████████████████████████████████████| 6/6 [00:09<00:00,  1.58s/it]\n"
     ]
    },
    {
     "name": "stdout",
     "output_type": "stream",
     "text": [
      "Epoch: 23 Loss: 0.12395867456992467 Acc: 1.0\n",
      "Test acc: 0.8541666666666667\n"
     ]
    },
    {
     "name": "stderr",
     "output_type": "stream",
     "text": [
      "100%|████████████████████████████████████████████████████████████████████████████████████| 6/6 [00:09<00:00,  1.53s/it]\n"
     ]
    },
    {
     "name": "stdout",
     "output_type": "stream",
     "text": [
      "Epoch: 24 Loss: 0.2882841577132543 Acc: 0.9375\n",
      "Test acc: 0.65625\n"
     ]
    },
    {
     "name": "stderr",
     "output_type": "stream",
     "text": [
      "100%|████████████████████████████████████████████████████████████████████████████████████| 6/6 [00:09<00:00,  1.53s/it]\n"
     ]
    },
    {
     "name": "stdout",
     "output_type": "stream",
     "text": [
      "Epoch: 25 Loss: 0.2609282024204731 Acc: 0.9618055555555555\n",
      "Test acc: 0.625\n"
     ]
    },
    {
     "name": "stderr",
     "output_type": "stream",
     "text": [
      "100%|████████████████████████████████████████████████████████████████████████████████████| 6/6 [00:09<00:00,  1.57s/it]\n"
     ]
    },
    {
     "name": "stdout",
     "output_type": "stream",
     "text": [
      "Epoch: 26 Loss: 0.1824549858768781 Acc: 0.96875\n",
      "Test acc: 0.8229166666666667\n"
     ]
    },
    {
     "name": "stderr",
     "output_type": "stream",
     "text": [
      "100%|████████████████████████████████████████████████████████████████████████████████████| 6/6 [00:09<00:00,  1.59s/it]\n"
     ]
    },
    {
     "name": "stdout",
     "output_type": "stream",
     "text": [
      "Epoch: 27 Loss: 0.13051518176992735 Acc: 0.9895833333333334\n",
      "Test acc: 0.71875\n"
     ]
    },
    {
     "name": "stderr",
     "output_type": "stream",
     "text": [
      "100%|████████████████████████████████████████████████████████████████████████████████████| 6/6 [00:09<00:00,  1.56s/it]\n"
     ]
    },
    {
     "name": "stdout",
     "output_type": "stream",
     "text": [
      "Epoch: 28 Loss: 0.14384919963777065 Acc: 0.96875\n",
      "Test acc: 0.7708333333333333\n"
     ]
    },
    {
     "name": "stderr",
     "output_type": "stream",
     "text": [
      "100%|████████████████████████████████████████████████████████████████████████████████████| 6/6 [00:09<00:00,  1.54s/it]\n"
     ]
    },
    {
     "name": "stdout",
     "output_type": "stream",
     "text": [
      "Epoch: 29 Loss: 0.23991450294852257 Acc: 0.9201388888888888\n",
      "Test acc: 0.71875\n"
     ]
    }
   ],
   "source": [
    "#training statistics\n",
    "train_loss = []\n",
    "train_acc = []\n",
    "test_acc = []\n",
    "\n",
    "for epoch in range(num_epochs):\n",
    "    loss_sum = 0\n",
    "    acc_sum = 0\n",
    "    for i, (images, labels) in enumerate(tqdm(train_loader)):\n",
    "        \n",
    "        output = model(images)\n",
    "        labels = torch.tensor(labels).to(device)\n",
    "\n",
    "\n",
    "        loss = criterion(output, labels)\n",
    "        \n",
    "        _, predicted = torch.max(output.data, 1)\n",
    "        #print(((predicted == labels).to('cpu').numpy().mean()))\n",
    "        acc = ((predicted == labels).to('cpu').numpy().mean())\n",
    "        \n",
    "        #train_loss.append(float(loss))\n",
    "        #train_acc.append(acc)\n",
    "        loss_sum += float(loss)\n",
    "        acc_sum += acc\n",
    "        #train_loss.append()\n",
    "        \n",
    "        optimizer.zero_grad()\n",
    "        loss.backward()\n",
    "        optimizer.step()\n",
    "    \n",
    "        \n",
    "    print('Epoch:', epoch, 'Loss:', loss_sum/len(train_loader), 'Acc:', acc_sum/len(train_loader))\n",
    "    train_loss.append(loss_sum/len(train_loader))\n",
    "    train_acc.append(acc_sum/len(train_loader))\n",
    "    \n",
    "    with torch.no_grad():\n",
    "        acc_sum = 0\n",
    "        for (images, labels) in ((test_loader)):\n",
    "            output = model(images)\n",
    "            labels = torch.tensor(labels).to(device)\n",
    "            _, predicted = torch.max(output.data, 1)\n",
    "            #print(((predicted == labels).to('cpu').numpy().mean()))\n",
    "            acc = ((predicted == labels).to('cpu').numpy().mean())\n",
    "            test_acc.append(acc)\n",
    "            acc_sum += acc\n",
    "        print(\"Test acc:\", acc_sum/len(test_loader))\n",
    "        test_acc.append(acc_sum/len(test_loader))\n",
    "        \n",
    "        "
   ]
  },
  {
   "cell_type": "code",
   "execution_count": 33,
   "id": "27f2ba81",
   "metadata": {},
   "outputs": [
    {
     "data": {
      "image/png": "[encoded data removed]",
      "text/plain": [
       "<Figure size 640x480 with 1 Axes>"
      ]
     },
     "metadata": {},
     "output_type": "display_data"
    }
   ],
   "source": [
    "from matplotlib.pylab import plt\n",
    "from numpy import arange\n",
    "\n",
    "# Generate a sequence of integers to represent the epoch numbers\n",
    "epochs = range(1, num_epochs+1)\n",
    "\n",
    "# Plot and label the training and validation loss values\n",
    "plt.plot(epochs, train_loss, label='Training Loss')\n",
    "plt.plot(epochs, train_acc, label='Training accuracy')\n",
    "\n",
    "# Add in a title and axes labels\n",
    "plt.title('Training and Validation Loss')\n",
    "plt.xlabel('Epochs')\n",
    "plt.ylabel('Loss')\n",
    "\n",
    "# Set the tick locations\n",
    "plt.xticks(arange(0, num_epochs+1, 2))\n",
    "\n",
    "# Display the plot\n",
    "plt.legend(loc='best')\n",
    "plt.show()"
   ]
  },
  {
   "cell_type": "code",
   "execution_count": 76,
   "id": "4a6a7b57",
   "metadata": {},
   "outputs": [
    {
     "name": "stdout",
     "output_type": "stream",
     "text": [
      "Accuracy of the network on the 159 test images: 86.79245283018868 %\n"
     ]
    }
   ],
   "source": [
    "with torch.no_grad():\n",
    "    correct = 0\n",
    "    total = 0\n",
    "    for images, labels in test_loader:\n",
    "        images = images.to(device)\n",
    "        labels = labels.to(device)\n",
    "        outputs = model(images)\n",
    "        _, predicted = torch.max(outputs.data, 1)\n",
    "        total += labels.size(0)\n",
    "        correct += (predicted == labels).sum().item()\n",
    "        del images, labels, outputs\n",
    "\n",
    "    print('Accuracy of the network on the {} test images: {} %'.format(total, 100 * correct / total))  "
   ]
  },
  {
   "cell_type": "code",
   "execution_count": 58,
   "id": "3991b135",
   "metadata": {},
   "outputs": [],
   "source": [
    "torch.save(model.state_dict(), 'models//mobile_net//log.pt')"
   ]
  },
  {
   "cell_type": "code",
   "execution_count": null,
   "id": "ea6f2649",
   "metadata": {},
   "outputs": [],
   "source": []
  },
  {
   "cell_type": "markdown",
   "id": "6e5ff03c",
   "metadata": {},
   "source": [
    "        doctr         ->   receipts    ->     docs      ->   logstream\n",
    "\"mobilenet_v3_doctr.pt\"  \"receipts.pt\"    \"documents.pt\"      \"log.pt\"\n",
    "                                                86\n",
    "\n",
    "\n",
    "\n",
    "Trained only on internet documents: 77.5% on itself, 40% on ours"
   ]
  },
  {
   "cell_type": "code",
   "execution_count": null,
   "id": "c56a3260",
   "metadata": {},
   "outputs": [],
   "source": []
  },
  {
   "cell_type": "markdown",
   "id": "8d670ba5",
   "metadata": {},
   "source": [
    "#### Testing on our images"
   ]
  },
  {
   "cell_type": "code",
   "execution_count": 7,
   "id": "12d335cd",
   "metadata": {},
   "outputs": [
    {
     "ename": "FileNotFoundError",
     "evalue": "[WinError 3] Системе не удается найти указанный путь: 'data'",
     "output_type": "error",
     "traceback": [
      "\u001b[1;31m---------------------------------------------------------------------------\u001b[0m",
      "\u001b[1;31mFileNotFoundError\u001b[0m                         Traceback (most recent call last)",
      "Cell \u001b[1;32mIn[7], line 2\u001b[0m\n\u001b[0;32m      1\u001b[0m \u001b[38;5;66;03m# удалить папку data, чтобы загрузить туда новые значения\u001b[39;00m\n\u001b[1;32m----> 2\u001b[0m \u001b[43mshutil\u001b[49m\u001b[38;5;241;43m.\u001b[39;49m\u001b[43mrmtree\u001b[49m\u001b[43m(\u001b[49m\u001b[38;5;124;43m'\u001b[39;49m\u001b[38;5;124;43mdata\u001b[39;49m\u001b[38;5;124;43m'\u001b[39;49m\u001b[43m)\u001b[49m\n",
      "File \u001b[1;32m~\\AppData\\Local\\Programs\\Python\\Python311\\Lib\\shutil.py:759\u001b[0m, in \u001b[0;36mrmtree\u001b[1;34m(path, ignore_errors, onerror, dir_fd)\u001b[0m\n\u001b[0;32m    757\u001b[0m     \u001b[38;5;66;03m# can't continue even if onerror hook returns\u001b[39;00m\n\u001b[0;32m    758\u001b[0m     \u001b[38;5;28;01mreturn\u001b[39;00m\n\u001b[1;32m--> 759\u001b[0m \u001b[38;5;28;01mreturn\u001b[39;00m \u001b[43m_rmtree_unsafe\u001b[49m\u001b[43m(\u001b[49m\u001b[43mpath\u001b[49m\u001b[43m,\u001b[49m\u001b[43m \u001b[49m\u001b[43monerror\u001b[49m\u001b[43m)\u001b[49m\n",
      "File \u001b[1;32m~\\AppData\\Local\\Programs\\Python\\Python311\\Lib\\shutil.py:603\u001b[0m, in \u001b[0;36m_rmtree_unsafe\u001b[1;34m(path, onerror)\u001b[0m\n\u001b[0;32m    601\u001b[0m         entries \u001b[38;5;241m=\u001b[39m \u001b[38;5;28mlist\u001b[39m(scandir_it)\n\u001b[0;32m    602\u001b[0m \u001b[38;5;28;01mexcept\u001b[39;00m \u001b[38;5;167;01mOSError\u001b[39;00m:\n\u001b[1;32m--> 603\u001b[0m     \u001b[43monerror\u001b[49m\u001b[43m(\u001b[49m\u001b[43mos\u001b[49m\u001b[38;5;241;43m.\u001b[39;49m\u001b[43mscandir\u001b[49m\u001b[43m,\u001b[49m\u001b[43m \u001b[49m\u001b[43mpath\u001b[49m\u001b[43m,\u001b[49m\u001b[43m \u001b[49m\u001b[43msys\u001b[49m\u001b[38;5;241;43m.\u001b[39;49m\u001b[43mexc_info\u001b[49m\u001b[43m(\u001b[49m\u001b[43m)\u001b[49m\u001b[43m)\u001b[49m\n\u001b[0;32m    604\u001b[0m     entries \u001b[38;5;241m=\u001b[39m []\n\u001b[0;32m    605\u001b[0m \u001b[38;5;28;01mfor\u001b[39;00m entry \u001b[38;5;129;01min\u001b[39;00m entries:\n",
      "File \u001b[1;32m~\\AppData\\Local\\Programs\\Python\\Python311\\Lib\\shutil.py:600\u001b[0m, in \u001b[0;36m_rmtree_unsafe\u001b[1;34m(path, onerror)\u001b[0m\n\u001b[0;32m    598\u001b[0m \u001b[38;5;28;01mdef\u001b[39;00m \u001b[38;5;21m_rmtree_unsafe\u001b[39m(path, onerror):\n\u001b[0;32m    599\u001b[0m     \u001b[38;5;28;01mtry\u001b[39;00m:\n\u001b[1;32m--> 600\u001b[0m         \u001b[38;5;28;01mwith\u001b[39;00m os\u001b[38;5;241m.\u001b[39mscandir(path) \u001b[38;5;28;01mas\u001b[39;00m scandir_it:\n\u001b[0;32m    601\u001b[0m             entries \u001b[38;5;241m=\u001b[39m \u001b[38;5;28mlist\u001b[39m(scandir_it)\n\u001b[0;32m    602\u001b[0m     \u001b[38;5;28;01mexcept\u001b[39;00m \u001b[38;5;167;01mOSError\u001b[39;00m:\n",
      "\u001b[1;31mFileNotFoundError\u001b[0m: [WinError 3] Системе не удается найти указанный путь: 'data'"
     ]
    }
   ],
   "source": [
    "# удалить папку data, чтобы загрузить туда новые значения\n",
    "shutil.rmtree('data')"
   ]
  },
  {
   "cell_type": "code",
   "execution_count": 8,
   "id": "165e2ef8",
   "metadata": {},
   "outputs": [
    {
     "name": "stdout",
     "output_type": "stream",
     "text": [
      "1-preprocessed.jpg True\n",
      "1016.jpg True\n",
      "1017.jpg True\n",
      "11-preprocessed.jpg True\n",
      "13-preprocessed.jpg True\n",
      "1330.jpg True\n",
      "17-preprocessed.jpg True\n",
      "17544.png True\n",
      "17550.png True\n",
      "18-preprocessed.jpg True\n",
      "2-preprocessed.jpg True\n",
      "2239.jpg True\n",
      "3-preprocessed.jpg True\n",
      "4-preprocessed.jpg True\n",
      "930.jpg True\n",
      "931.jpg True\n",
      "932.jpg True\n",
      "955.jpg True\n",
      "960.jpg True\n",
      "961.jpg True\n",
      "963.jpg True\n",
      "964.jpg True\n",
      "bad-r-0002.jpg True\n",
      "bad-r-0003.jpg True\n",
      "desktop.ini False\n",
      "photo_2024-02-28_09-02-11.jpg True\n",
      "smol.jpg True\n",
      "t-1.jpg True\n"
     ]
    }
   ],
   "source": [
    "#data_folder = \"Документы//Из_интернета//SROIE\" # receipts\n",
    "#data_folder = \"Документы/Из_интернета/FUNSD/\" # documents\n",
    "data_folder = \"Документы//Logstream\"\n",
    "\n",
    "tmp_data = 'data'\n",
    "classes = ['0', '90', '180', '270', 'other']\n",
    "\n",
    "if not(os.path.isdir(tmp_data)):\n",
    "    os.mkdir(tmp_data)\n",
    "    for class_ in classes:\n",
    "        if class_ == 'other': # у нас нет примеров для класса \"другое\"\n",
    "            continue \n",
    "        os.mkdir( os.path.join(tmp_data, class_) )\n",
    "\n",
    "        \n",
    "img_formats = ['.jpg', '.png']#['.jpg', '.png']\n",
    "\n",
    "#copy all images from folder to our subfolder, class '0'\n",
    "for root, dirs, files in os.walk(data_folder):\n",
    "    for file in files:\n",
    "        print(file, is_file_image(img_formats, file))\n",
    "        if not( is_file_image(img_formats, file) ):\n",
    "            continue\n",
    "        shutil.copyfile(os.path.join(root, file), os.path.join(tmp_data, classes[0], file))"
   ]
  },
  {
   "cell_type": "code",
   "execution_count": 9,
   "id": "12d18b99",
   "metadata": {},
   "outputs": [
    {
     "name": "stderr",
     "output_type": "stream",
     "text": [
      "100%|██████████████████████████████████████████████████████████████████████████████████| 27/27 [00:10<00:00,  2.64it/s]"
     ]
    },
    {
     "name": "stdout",
     "output_type": "stream",
     "text": [
      "Total Imgs: 108\n"
     ]
    },
    {
     "name": "stderr",
     "output_type": "stream",
     "text": [
      "\n"
     ]
    }
   ],
   "source": [
    "from PIL import Image\n",
    "\n",
    "total_imgs = 0\n",
    "for file in tqdm(os.listdir( os.path.join(tmp_data, classes[0]) )):\n",
    "    if file[-4:] == '.jpg':\n",
    "        img = cv2.imread( os.path.join(tmp_data, classes[0], file) ) # открываем ровный оригинал\n",
    "    elif file[-4:] == '.png':\n",
    "        img = Image.open( os.path.join(tmp_data, classes[0], file) )\n",
    "        img = img.convert('RGB')\n",
    "        img = np.array(img)\n",
    "        file = file.replace('.png', '.jpg')\n",
    "        #continue\n",
    "        #img = cv2.imread( os.path.join(tmp_data, classes[0], file) , -1)\n",
    "\n",
    "    # вращаем один раз и сохраняем (90)\n",
    "    img = cv2.rotate(img, cv2.ROTATE_90_CLOCKWISE)\n",
    "    cv2.imwrite( os.path.join(tmp_data, classes[1], file), img )\n",
    "    \n",
    "    # вращаем второй раз и сохраняем (180)\n",
    "    img = cv2.rotate(img, cv2.ROTATE_90_CLOCKWISE)\n",
    "    cv2.imwrite( os.path.join(tmp_data, classes[2], file), img )\n",
    "    \n",
    "    # вращаем третий раз и сохраняем (270)\n",
    "    img = cv2.rotate(img, cv2.ROTATE_90_CLOCKWISE)\n",
    "    cv2.imwrite( os.path.join(tmp_data, classes[3], file), img )\n",
    "    \n",
    "    total_imgs += 4\n",
    "print(\"Total Imgs:\", total_imgs)"
   ]
  },
  {
   "cell_type": "code",
   "execution_count": 10,
   "id": "928076f7",
   "metadata": {},
   "outputs": [
    {
     "name": "stdout",
     "output_type": "stream",
     "text": [
      "108\n",
      "108 imgs.\n"
     ]
    }
   ],
   "source": [
    "from torchvision import datasets, transforms\n",
    "\n",
    "\n",
    "transform = transforms.Compose([transforms.ToTensor(), \n",
    "                                transforms.Lambda(lambda x: x.to(device)),\n",
    "                                transforms.Resize((128,128))])\n",
    "\n",
    "folder = 'data'\n",
    "dataset = datasets.ImageFolder(folder, transform = transform)\n",
    "\n",
    "print(len(dataset))\n",
    "total_imgs = len(dataset)\n",
    "\n",
    "\n",
    "val_len = total_imgs\n",
    "print(val_len, 'imgs.')\n",
    "#val = torch.utils.data.random_split(dataset, [val_len])\n",
    "\n",
    "val_loader = torch.utils.data.DataLoader(dataset, batch_size=1, shuffle=True)"
   ]
  },
  {
   "cell_type": "code",
   "execution_count": 16,
   "id": "164aa893",
   "metadata": {},
   "outputs": [
    {
     "name": "stdout",
     "output_type": "stream",
     "text": [
      "Accuracy of the network on the 108 test images: 41.666666666666664 %\n",
      "Total time: 10.899157524108887 s\n",
      "Time per image: 0.10091812522323043 s\n"
     ]
    }
   ],
   "source": [
    "import time\n",
    "\n",
    "t1 = time.time()\n",
    "\n",
    "with torch.no_grad():\n",
    "    correct = 0\n",
    "    total = 0\n",
    "    for images, labels in val_loader:\n",
    "        images = images.to(device)\n",
    "        labels = labels.to(device)\n",
    "        outputs = model(images)\n",
    "        _, predicted = torch.max(outputs.data, 1)\n",
    "        total += labels.size(0)\n",
    "        correct += (predicted == labels).sum().item()\n",
    "        del images, labels, outputs\n",
    "\n",
    "    print('Accuracy of the network on the {} test images: {} %'.format(total, 100 * correct / total))  \n",
    "    \n",
    "t2 = time.time()\n",
    "\n",
    "print(\"Total time:\", (t2 - t1), \"s\\nTime per image:\", (t2-t1)/total, \"s\")"
   ]
  },
  {
   "cell_type": "code",
   "execution_count": 15,
   "id": "931d7fc3",
   "metadata": {},
   "outputs": [
    {
     "data": {
      "text/plain": [
       "'cpu'"
      ]
     },
     "execution_count": 15,
     "metadata": {},
     "output_type": "execute_result"
    }
   ],
   "source": [
    "device\n"
   ]
  },
  {
   "cell_type": "code",
   "execution_count": null,
   "id": "ea94053a",
   "metadata": {},
   "outputs": [],
   "source": []
  },
  {
   "cell_type": "code",
   "execution_count": null,
   "id": "13e1a358",
   "metadata": {},
   "outputs": [],
   "source": []
  },
  {
   "cell_type": "code",
   "execution_count": null,
   "id": "49650db9",
   "metadata": {},
   "outputs": [],
   "source": []
  },
  {
   "cell_type": "code",
   "execution_count": null,
   "id": "3e804244",
   "metadata": {},
   "outputs": [],
   "source": []
  },
  {
   "cell_type": "code",
   "execution_count": null,
   "id": "d0a8eb88",
   "metadata": {},
   "outputs": [],
   "source": []
  },
  {
   "cell_type": "code",
   "execution_count": null,
   "id": "dd0bf954",
   "metadata": {},
   "outputs": [],
   "source": []
  },
  {
   "cell_type": "code",
   "execution_count": null,
   "id": "1ded1808",
   "metadata": {},
   "outputs": [],
   "source": []
  },
  {
   "cell_type": "code",
   "execution_count": null,
   "id": "039ef040",
   "metadata": {},
   "outputs": [],
   "source": []
  },
  {
   "cell_type": "code",
   "execution_count": null,
   "id": "980e97e6",
   "metadata": {},
   "outputs": [],
   "source": []
  }
 ],
 "metadata": {
  "kernelspec": {
   "display_name": "Python 3 (ipykernel)",
   "language": "python",
   "name": "python3"
  },
  "language_info": {
   "codemirror_mode": {
    "name": "ipython",
    "version": 3
   },
   "file_extension": ".py",
   "mimetype": "text/x-python",
   "name": "python",
   "nbconvert_exporter": "python",
   "pygments_lexer": "ipython3",
   "version": "3.11.1"
  }
 },
 "nbformat": 4,
 "nbformat_minor": 5
}
